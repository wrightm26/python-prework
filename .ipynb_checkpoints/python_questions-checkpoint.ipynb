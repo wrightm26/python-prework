{
 "cells": [
  {
   "cell_type": "code",
   "execution_count": 1,
   "id": "9447a539",
   "metadata": {},
   "outputs": [
    {
     "name": "stdout",
     "output_type": "stream",
     "text": [
      "\n",
      "hello_USERNAME!\n"
     ]
    }
   ],
   "source": [
    "#Question 1:\n",
    "#Write a function to print \"hello_USERNAME!\" USERNAME is the input of the function. \n",
    "#The first line of the code has been defined as below. def hello_name(user_name):\n",
    "def hello_name(user_name):\n",
    "    \"\"\"Display a simple greeting.\"\"\"\n",
    "    print(\"\\nhello_\" + user_name.upper() + \"!\")\n",
    "    \n",
    "hello_name('username')"
   ]
  },
  {
   "cell_type": "code",
   "execution_count": 15,
   "id": "ca995b72",
   "metadata": {},
   "outputs": [
    {
     "name": "stdout",
     "output_type": "stream",
     "text": [
      "1\n",
      "3\n",
      "5\n",
      "7\n",
      "9\n",
      "11\n",
      "13\n",
      "15\n",
      "17\n",
      "19\n",
      "21\n",
      "23\n",
      "25\n",
      "27\n",
      "29\n",
      "31\n",
      "33\n",
      "35\n",
      "37\n",
      "39\n",
      "41\n",
      "43\n",
      "45\n",
      "47\n",
      "49\n",
      "51\n",
      "53\n",
      "55\n",
      "57\n",
      "59\n",
      "61\n",
      "63\n",
      "65\n",
      "67\n",
      "69\n",
      "71\n",
      "73\n",
      "75\n",
      "77\n",
      "79\n",
      "81\n",
      "83\n",
      "85\n",
      "87\n",
      "89\n",
      "91\n",
      "93\n",
      "95\n",
      "97\n",
      "99\n"
     ]
    }
   ],
   "source": [
    "#Question 2:\n",
    "#Write a python function, first_odds that prints the odd numbers from 1-100 and returns nothing def first_odds():\n",
    "def first_odds():\n",
    "    \"\"\"Display odd numbers up to 100.\"\"\"\n",
    "    current_number = 0\n",
    "    while current_number <100:\n",
    "        current_number += 1\n",
    "        if current_number %2 == 1:\n",
    "            print(current_number)\n",
    "            continue\n",
    "            \n",
    "first_odds()"
   ]
  },
  {
   "cell_type": "code",
   "execution_count": 10,
   "id": "73d30d91",
   "metadata": {},
   "outputs": [
    {
     "name": "stdout",
     "output_type": "stream",
     "text": [
      "7\n"
     ]
    }
   ],
   "source": [
    "#Question 3:\n",
    "#Please write a Python function, max_num_in_list to return the max number of a given list. \n",
    "#The first line of the code has been defined as below. def max_num_in_list(a_list):\n",
    "a_list = [1, 2, 3, 4, 5, 6, 7]\n",
    "def max_num_in_list(a_list):\n",
    "    \"\"\"Display the maximum number in the list.\"\"\"\n",
    "    max(a_list)\n",
    "    \n",
    "print(max(a_list))"
   ]
  },
  {
   "cell_type": "code",
   "execution_count": 11,
   "id": "4e2ae895",
   "metadata": {},
   "outputs": [
    {
     "name": "stdout",
     "output_type": "stream",
     "text": [
      "2023\n",
      "False\n"
     ]
    }
   ],
   "source": [
    "#Question 4:\n",
    "#Please write a Python function, max_num_in_list to return the max number of a given list. \n",
    "#The first line of the code has been defined as below. def max_num_in_list(a_list):\n",
    "def is_leap_year(a_year):\n",
    "    \"\"\"Return True if the year inputted is a leap year.\"\"\"\n",
    "    year = False\n",
    "    \n",
    "    if a_year % 400 == 0:\n",
    "        year = True\n",
    "    elif a_year % 4 == 0 and a_year % 100 != 0:\n",
    "        year = True\n",
    "    return year\n",
    "\n",
    "a_year = int(input())\n",
    "print(is_leap_year(a_year))\n",
    "    \n",
    "\n",
    "          "
   ]
  },
  {
   "cell_type": "code",
   "execution_count": 9,
   "id": "4fd09282",
   "metadata": {},
   "outputs": [
    {
     "data": {
      "text/plain": [
       "False"
      ]
     },
     "execution_count": 9,
     "metadata": {},
     "output_type": "execute_result"
    }
   ],
   "source": [
    "#Question 5:\n",
    "#Write a function to check to see if all numbers in the list are consecutive numbers. \n",
    "#For example, [2,3,4,5,6,7] are consecutive numbers, but [1,2,4,5] are not consecutive numbers. \n",
    "#The return should be boolean Type. def is_consecutive(a_list):\n",
    "def is_consecutive(a_list):\n",
    "    \"\"\"Return True if the numbers are consecutive.\"\"\"\n",
    "    maximum = max(a_list)\n",
    "    if sum(a_list) == maximum * (maximum + 1) /2:\n",
    "        return True\n",
    "    return False\n",
    "\n",
    "a_list = [1,2,3,4,5,,6,7]\n",
    "is_consecutive(a_list)"
   ]
  },
  {
   "cell_type": "code",
   "execution_count": null,
   "id": "f2650afd",
   "metadata": {},
   "outputs": [],
   "source": []
  },
  {
   "cell_type": "code",
   "execution_count": null,
   "id": "6abedbdd",
   "metadata": {},
   "outputs": [],
   "source": []
  }
 ],
 "metadata": {
  "kernelspec": {
   "display_name": "Python 3 (ipykernel)",
   "language": "python",
   "name": "python3"
  },
  "language_info": {
   "codemirror_mode": {
    "name": "ipython",
    "version": 3
   },
   "file_extension": ".py",
   "mimetype": "text/x-python",
   "name": "python",
   "nbconvert_exporter": "python",
   "pygments_lexer": "ipython3",
   "version": "3.9.13"
  }
 },
 "nbformat": 4,
 "nbformat_minor": 5
}
